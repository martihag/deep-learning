{
 "cells": [
  {
   "cell_type": "markdown",
   "metadata": {
    "deletable": true,
    "editable": true
   },
   "source": [
    "# TV Script Generation\n",
    "In this project, you'll generate your own [Simpsons](https://en.wikipedia.org/wiki/The_Simpsons) TV scripts using RNNs.  You'll be using part of the [Simpsons dataset](https://www.kaggle.com/wcukierski/the-simpsons-by-the-data) of scripts from 27 seasons.  The Neural Network you'll build will generate a new TV script for a scene at [Moe's Tavern](https://simpsonswiki.com/wiki/Moe's_Tavern).\n",
    "## Get the Data\n",
    "The data is already provided for you.  You'll be using a subset of the original dataset.  It consists of only the scenes in Moe's Tavern.  This doesn't include other versions of the tavern, like \"Moe's Cavern\", \"Flaming Moe's\", \"Uncle Moe's Family Feed-Bag\", etc.."
   ]
  },
  {
   "cell_type": "code",
   "execution_count": 1,
   "metadata": {
    "collapsed": false,
    "deletable": true,
    "editable": true
   },
   "outputs": [],
   "source": [
    "\"\"\"\n",
    "DON'T MODIFY ANYTHING IN THIS CELL\n",
    "\"\"\"\n",
    "import helper\n",
    "\n",
    "data_dir = './data/simpsons/moes_tavern_lines.txt'\n",
    "text = helper.load_data(data_dir)\n",
    "# Ignore notice, since we don't use it for analysing the data\n",
    "text = text[81:]"
   ]
  },
  {
   "cell_type": "markdown",
   "metadata": {
    "deletable": true,
    "editable": true
   },
   "source": [
    "## Explore the Data\n",
    "Play around with `view_sentence_range` to view different parts of the data."
   ]
  },
  {
   "cell_type": "code",
   "execution_count": 2,
   "metadata": {
    "collapsed": false,
    "deletable": true,
    "editable": true
   },
   "outputs": [
    {
     "name": "stdout",
     "output_type": "stream",
     "text": [
      "Dataset Stats\n",
      "Roughly the number of unique words: 11492\n",
      "Number of scenes: 262\n",
      "Average number of sentences in each scene: 15.248091603053435\n",
      "Number of lines: 4257\n",
      "Average number of words in each line: 11.50434578341555\n",
      "\n",
      "The sentences 50 to 70:\n",
      "Moe_Szyslak: Sorry, Homer.\n",
      "Homer_Simpson: (LOOKING AT WATCH) Ah. Finished with fifteen seconds to spare.\n",
      "Little_Man: (CONCERNED) What's the matter, buddy?\n",
      "Homer_Simpson: The moron next door closed early!\n",
      "Little_Man: (STIFFENING) I happen to be that moron.\n",
      "Homer_Simpson: Oh, me and my trenchant mouth.\n",
      "Homer_Simpson: Please, you've got to open that store.\n",
      "Little_Man: Let me think about it... Eh... No.\n",
      "Homer_Simpson: Okay, okay. But I want you to see a picture of the little girl you're disappointing. (GOES THROUGH HIS WALLET) Well I don't have one.\n",
      "Moe_Szyslak: (TO LITTLE MAN) Come on, Jer. Open up. Be a pal. Remember when I pulled you and your wife out of that burning car?\n",
      "Little_Man: (GRUDGINGLY) Okay. Okay. But now we're even. (TO HOMER) So what does your daughter need?\n",
      "Homer_Simpson: (SMOOTHLY) I'll have you know, I wrote it down.\n",
      "Homer_Simpson: Number Four and a half -- Stupid gum!\n",
      "Homer_Simpson: Number Four and a Half reed! Whoo hoo!\n",
      "Little_Man: Uh-huh. And what instrument does she play?\n",
      "Homer_Simpson: (SUNK) I dunno.\n",
      "\n",
      "\n",
      "Moe_Szyslak: (TO PATRONS) Figure of speech.\n",
      "Moe_Szyslak: Hiya, Homer. (SIGHS)\n"
     ]
    }
   ],
   "source": [
    "view_sentence_range = (50, 70)\n",
    "\n",
    "\"\"\"\n",
    "DON'T MODIFY ANYTHING IN THIS CELL\n",
    "\"\"\"\n",
    "import numpy as np\n",
    "\n",
    "print('Dataset Stats')\n",
    "print('Roughly the number of unique words: {}'.format(len({word: None for word in text.split()})))\n",
    "scenes = text.split('\\n\\n')\n",
    "print('Number of scenes: {}'.format(len(scenes)))\n",
    "sentence_count_scene = [scene.count('\\n') for scene in scenes]\n",
    "print('Average number of sentences in each scene: {}'.format(np.average(sentence_count_scene)))\n",
    "\n",
    "sentences = [sentence for scene in scenes for sentence in scene.split('\\n')]\n",
    "print('Number of lines: {}'.format(len(sentences)))\n",
    "word_count_sentence = [len(sentence.split()) for sentence in sentences]\n",
    "print('Average number of words in each line: {}'.format(np.average(word_count_sentence)))\n",
    "\n",
    "print()\n",
    "print('The sentences {} to {}:'.format(*view_sentence_range))\n",
    "print('\\n'.join(text.split('\\n')[view_sentence_range[0]:view_sentence_range[1]]))"
   ]
  },
  {
   "cell_type": "markdown",
   "metadata": {
    "deletable": true,
    "editable": true
   },
   "source": [
    "## Implement Preprocessing Functions\n",
    "The first thing to do to any dataset is preprocessing.  Implement the following preprocessing functions below:\n",
    "- Lookup Table\n",
    "- Tokenize Punctuation\n",
    "\n",
    "### Lookup Table\n",
    "To create a word embedding, you first need to transform the words to ids.  In this function, create two dictionaries:\n",
    "- Dictionary to go from the words to an id, we'll call `vocab_to_int`\n",
    "- Dictionary to go from the id to word, we'll call `int_to_vocab`\n",
    "\n",
    "Return these dictionaries in the following tuple `(vocab_to_int, int_to_vocab)`"
   ]
  },
  {
   "cell_type": "code",
   "execution_count": 55,
   "metadata": {
    "collapsed": false,
    "deletable": true,
    "editable": true
   },
   "outputs": [
    {
     "name": "stdout",
     "output_type": "stream",
     "text": [
      "Tests Passed\n"
     ]
    }
   ],
   "source": [
    "import numpy as np\n",
    "import problem_unittests as tests\n",
    "from collections import Counter\n",
    "\n",
    "def create_lookup_tables(text):\n",
    "    \"\"\"\n",
    "    Create lookup tables for vocabulary\n",
    "    :param text: The text of tv scripts split into words\n",
    "    :return: A tuple of dicts (vocab_to_int, int_to_vocab)\n",
    "    \"\"\"\n",
    "    words = list(set(text))\n",
    "    vocab_to_int = {word: i for i, word in enumerate(words, 0)}\n",
    "    int_to_vocab = {i: word for i, word in enumerate(words, 0)}  \n",
    "    return vocab_to_int, int_to_vocab\n",
    "\n",
    "\n",
    "\"\"\"\n",
    "DON'T MODIFY ANYTHING IN THIS CELL THAT IS BELOW THIS LINE\n",
    "\"\"\"\n",
    "tests.test_create_lookup_tables(create_lookup_tables)"
   ]
  },
  {
   "cell_type": "markdown",
   "metadata": {
    "deletable": true,
    "editable": true
   },
   "source": [
    "### Tokenize Punctuation\n",
    "We'll be splitting the script into a word array using spaces as delimiters.  However, punctuations like periods and exclamation marks make it hard for the neural network to distinguish between the word \"bye\" and \"bye!\".\n",
    "\n",
    "Implement the function `token_lookup` to return a dict that will be used to tokenize symbols like \"!\" into \"||Exclamation_Mark||\".  Create a dictionary for the following symbols where the symbol is the key and value is the token:\n",
    "- Period ( . )\n",
    "- Comma ( , )\n",
    "- Quotation Mark ( \" )\n",
    "- Semicolon ( ; )\n",
    "- Exclamation mark ( ! )\n",
    "- Question mark ( ? )\n",
    "- Left Parentheses ( ( )\n",
    "- Right Parentheses ( ) )\n",
    "- Dash ( -- )\n",
    "- Return ( \\n )\n",
    "\n",
    "This dictionary will be used to token the symbols and add the delimiter (space) around it.  This separates the symbols as it's own word, making it easier for the neural network to predict on the next word. Make sure you don't use a token that could be confused as a word. Instead of using the token \"dash\", try using something like \"||dash||\"."
   ]
  },
  {
   "cell_type": "code",
   "execution_count": 56,
   "metadata": {
    "collapsed": false,
    "deletable": true,
    "editable": true
   },
   "outputs": [
    {
     "name": "stdout",
     "output_type": "stream",
     "text": [
      "Tests Passed\n"
     ]
    }
   ],
   "source": [
    "def token_lookup():\n",
    "    \"\"\"\n",
    "    Generate a dict to turn punctuation into a token.\n",
    "    :return: Tokenize dictionary where the key is the punctuation and the value is the token\n",
    "    \"\"\"\n",
    "    d = {}\n",
    "    d['.'] = '||period||'\n",
    "    d[','] = '||comma||'\n",
    "    d['\"'] = '||quotation_mark||'\n",
    "    d[';'] = '||semicolon||'\n",
    "    d['!'] = '||exclamation_mark||'\n",
    "    d['?'] = '||question_mark||'\n",
    "    d['('] = '||left_paratheses||'\n",
    "    d[')'] = '||right_parantheses||'\n",
    "    d['--'] = '||dash||'\n",
    "    d['\\n'] = '||return||'\n",
    "    return d\n",
    "\n",
    "\"\"\"\n",
    "DON'T MODIFY ANYTHING IN THIS CELL THAT IS BELOW THIS LINE\n",
    "\"\"\"\n",
    "tests.test_tokenize(token_lookup)"
   ]
  },
  {
   "cell_type": "markdown",
   "metadata": {
    "deletable": true,
    "editable": true
   },
   "source": [
    "## Preprocess all the data and save it\n",
    "Running the code cell below will preprocess all the data and save it to file."
   ]
  },
  {
   "cell_type": "code",
   "execution_count": 57,
   "metadata": {
    "collapsed": false,
    "deletable": true,
    "editable": true
   },
   "outputs": [],
   "source": [
    "\"\"\"\n",
    "DON'T MODIFY ANYTHING IN THIS CELL\n",
    "\"\"\"\n",
    "# Preprocess Training, Validation, and Testing Data\n",
    "helper.preprocess_and_save_data(data_dir, token_lookup, create_lookup_tables)"
   ]
  },
  {
   "cell_type": "markdown",
   "metadata": {
    "deletable": true,
    "editable": true
   },
   "source": [
    "# Check Point\n",
    "This is your first checkpoint. If you ever decide to come back to this notebook or have to restart the notebook, you can start from here. The preprocessed data has been saved to disk."
   ]
  },
  {
   "cell_type": "code",
   "execution_count": 58,
   "metadata": {
    "collapsed": false,
    "deletable": true,
    "editable": true
   },
   "outputs": [],
   "source": [
    "\"\"\"\n",
    "DON'T MODIFY ANYTHING IN THIS CELL\n",
    "\"\"\"\n",
    "import helper\n",
    "import numpy as np\n",
    "import problem_unittests as tests\n",
    "\n",
    "int_text, vocab_to_int, int_to_vocab, token_dict = helper.load_preprocess()"
   ]
  },
  {
   "cell_type": "markdown",
   "metadata": {
    "deletable": true,
    "editable": true
   },
   "source": [
    "## Build the Neural Network\n",
    "You'll build the components necessary to build a RNN by implementing the following functions below:\n",
    "- get_inputs\n",
    "- get_init_cell\n",
    "- get_embed\n",
    "- build_rnn\n",
    "- build_nn\n",
    "- get_batches\n",
    "\n",
    "### Check the Version of TensorFlow and Access to GPU"
   ]
  },
  {
   "cell_type": "code",
   "execution_count": 59,
   "metadata": {
    "collapsed": false
   },
   "outputs": [
    {
     "name": "stdout",
     "output_type": "stream",
     "text": [
      "TensorFlow Version: 1.1.0\n",
      "Default GPU Device: /gpu:0\n"
     ]
    }
   ],
   "source": [
    "\"\"\"\n",
    "DON'T MODIFY ANYTHING IN THIS CELL\n",
    "\"\"\"\n",
    "from distutils.version import LooseVersion\n",
    "import warnings\n",
    "import tensorflow as tf\n",
    "\n",
    "# Check TensorFlow Version\n",
    "assert LooseVersion(tf.__version__) >= LooseVersion('1.0'), 'Please use TensorFlow version 1.0 or newer'\n",
    "print('TensorFlow Version: {}'.format(tf.__version__))\n",
    "\n",
    "# Check for a GPU\n",
    "if not tf.test.gpu_device_name():\n",
    "    warnings.warn('No GPU found. Please use a GPU to train your neural network.')\n",
    "else:\n",
    "    print('Default GPU Device: {}'.format(tf.test.gpu_device_name()))"
   ]
  },
  {
   "cell_type": "markdown",
   "metadata": {},
   "source": [
    "### Input\n",
    "Implement the `get_inputs()` function to create TF Placeholders for the Neural Network.  It should create the following placeholders:\n",
    "- Input text placeholder named \"input\" using the [TF Placeholder](https://www.tensorflow.org/api_docs/python/tf/placeholder) `name` parameter.\n",
    "- Targets placeholder\n",
    "- Learning Rate placeholder\n",
    "\n",
    "Return the placeholders in the following tuple `(Input, Targets, LearningRate)`"
   ]
  },
  {
   "cell_type": "code",
   "execution_count": 60,
   "metadata": {
    "collapsed": false,
    "deletable": true,
    "editable": true
   },
   "outputs": [
    {
     "name": "stdout",
     "output_type": "stream",
     "text": [
      "Tests Passed\n"
     ]
    }
   ],
   "source": [
    "def get_inputs():\n",
    "    \"\"\"\n",
    "    Create TF Placeholders for input, targets, and learning rate.\n",
    "    :return: Tuple (input, targets, learning rate)\n",
    "    \"\"\"\n",
    "    \n",
    "    input = tf.placeholder(tf.int32, [None, None], name='input')\n",
    "    targets = tf.placeholder(tf.int32, [None, None], name='targets')\n",
    "    learning_rate = tf.placeholder(tf.float32, name='learning_rate')\n",
    "    \n",
    "    return input, targets, learning_rate\n",
    "\n",
    "\n",
    "\"\"\"\n",
    "DON'T MODIFY ANYTHING IN THIS CELL THAT IS BELOW THIS LINE\n",
    "\"\"\"\n",
    "tests.test_get_inputs(get_inputs)"
   ]
  },
  {
   "cell_type": "markdown",
   "metadata": {
    "deletable": true,
    "editable": true
   },
   "source": [
    "### Build RNN Cell and Initialize\n",
    "Stack one or more [`BasicLSTMCells`](https://www.tensorflow.org/api_docs/python/tf/contrib/rnn/BasicLSTMCell) in a [`MultiRNNCell`](https://www.tensorflow.org/api_docs/python/tf/contrib/rnn/MultiRNNCell).\n",
    "- The Rnn size should be set using `rnn_size`\n",
    "- Initalize Cell State using the MultiRNNCell's [`zero_state()`](https://www.tensorflow.org/api_docs/python/tf/contrib/rnn/MultiRNNCell#zero_state) function\n",
    "    - Apply the name \"initial_state\" to the initial state using [`tf.identity()`](https://www.tensorflow.org/api_docs/python/tf/identity)\n",
    "\n",
    "Return the cell and initial state in the following tuple `(Cell, InitialState)`"
   ]
  },
  {
   "cell_type": "code",
   "execution_count": 61,
   "metadata": {
    "collapsed": false,
    "deletable": true,
    "editable": true
   },
   "outputs": [
    {
     "name": "stdout",
     "output_type": "stream",
     "text": [
      "Tests Passed\n"
     ]
    }
   ],
   "source": [
    "def get_init_cell(batch_size, rnn_size):\n",
    "    \"\"\"\n",
    "    Create an RNN Cell and initialize it.\n",
    "    :param batch_size: Size of batches\n",
    "    :param rnn_size: Size of RNNs\n",
    "    :return: Tuple (cell, initialize state)\n",
    "    \"\"\"\n",
    "    \n",
    "    rnn_layer_size = 2\n",
    "    \n",
    "    cell = tf.contrib.rnn.MultiRNNCell([tf.contrib.rnn.BasicLSTMCell(rnn_size) for _ in range(rnn_layer_size)])\n",
    "    \n",
    "    initial_state = cell.zero_state(batch_size, tf.float32)\n",
    "    \n",
    "    return cell, tf.identity(initial_state, \"initial_state\")\n",
    "\n",
    "\n",
    "\"\"\"\n",
    "DON'T MODIFY ANYTHING IN THIS CELL THAT IS BELOW THIS LINE\n",
    "\"\"\"\n",
    "tests.test_get_init_cell(get_init_cell)"
   ]
  },
  {
   "cell_type": "markdown",
   "metadata": {
    "deletable": true,
    "editable": true
   },
   "source": [
    "### Word Embedding\n",
    "Apply embedding to `input_data` using TensorFlow.  Return the embedded sequence."
   ]
  },
  {
   "cell_type": "code",
   "execution_count": 70,
   "metadata": {
    "collapsed": false,
    "deletable": true,
    "editable": true
   },
   "outputs": [
    {
     "name": "stdout",
     "output_type": "stream",
     "text": [
      "Tests Passed\n"
     ]
    }
   ],
   "source": [
    "def get_embed(input_data, vocab_size, embed_dim):\n",
    "    \"\"\"\n",
    "    Create embedding for <input_data>.\n",
    "    :param input_data: TF placeholder for text input.\n",
    "    :param vocab_size: Number of words in vocabulary.\n",
    "    :param embed_dim: Number of embedding dimensions\n",
    "    :return: Embedded input.\n",
    "    \"\"\"\n",
    "    embedding = tf.Variable(tf.random_uniform((vocab_size, embed_dim), -1, 1))\n",
    "    return tf.nn.embedding_lookup(embedding, input_data)\n",
    "\n",
    "\n",
    "\"\"\"\n",
    "DON'T MODIFY ANYTHING IN THIS CELL THAT IS BELOW THIS LINE\n",
    "\"\"\"\n",
    "tests.test_get_embed(get_embed)"
   ]
  },
  {
   "cell_type": "markdown",
   "metadata": {
    "deletable": true,
    "editable": true
   },
   "source": [
    "### Build RNN\n",
    "You created a RNN Cell in the `get_init_cell()` function.  Time to use the cell to create a RNN.\n",
    "- Build the RNN using the [`tf.nn.dynamic_rnn()`](https://www.tensorflow.org/api_docs/python/tf/nn/dynamic_rnn)\n",
    " - Apply the name \"final_state\" to the final state using [`tf.identity()`](https://www.tensorflow.org/api_docs/python/tf/identity)\n",
    "\n",
    "Return the outputs and final_state state in the following tuple `(Outputs, FinalState)` "
   ]
  },
  {
   "cell_type": "code",
   "execution_count": 71,
   "metadata": {
    "collapsed": false,
    "deletable": true,
    "editable": true
   },
   "outputs": [
    {
     "name": "stdout",
     "output_type": "stream",
     "text": [
      "Tests Passed\n"
     ]
    }
   ],
   "source": [
    "def build_rnn(cell, inputs):\n",
    "    \"\"\"\n",
    "    Create a RNN using a RNN Cell\n",
    "    :param cell: RNN Cell\n",
    "    :param inputs: Input text data\n",
    "    :return: Tuple (Outputs, Final State)\n",
    "    \"\"\"\n",
    "    outputs, final_state = tf.nn.dynamic_rnn(cell, inputs, dtype=tf.float32)\n",
    "    return outputs, tf.identity(final_state, name='final_state')\n",
    "\n",
    "\n",
    "\"\"\"\n",
    "DON'T MODIFY ANYTHING IN THIS CELL THAT IS BELOW THIS LINE\n",
    "\"\"\"\n",
    "tests.test_build_rnn(build_rnn)"
   ]
  },
  {
   "cell_type": "markdown",
   "metadata": {
    "deletable": true,
    "editable": true
   },
   "source": [
    "### Build the Neural Network\n",
    "Apply the functions you implemented above to:\n",
    "- Apply embedding to `input_data` using your `get_embed(input_data, vocab_size, embed_dim)` function.\n",
    "- Build RNN using `cell` and your `build_rnn(cell, inputs)` function.\n",
    "- Apply a fully connected layer with a linear activation and `vocab_size` as the number of outputs.\n",
    "\n",
    "Return the logits and final state in the following tuple (Logits, FinalState) "
   ]
  },
  {
   "cell_type": "code",
   "execution_count": 72,
   "metadata": {
    "collapsed": false,
    "deletable": true,
    "editable": true
   },
   "outputs": [
    {
     "name": "stdout",
     "output_type": "stream",
     "text": [
      "Tests Passed\n"
     ]
    }
   ],
   "source": [
    "def build_nn(cell, rnn_size, input_data, vocab_size, embed_dim):\n",
    "    \"\"\"\n",
    "    Build part of the neural network\n",
    "    :param cell: RNN cell\n",
    "    :param rnn_size: Size of rnns\n",
    "    :param input_data: Input data\n",
    "    :param vocab_size: Vocabulary size\n",
    "    :param embed_dim: Number of embedding dimensions\n",
    "    :return: Tuple (Logits, FinalState)\n",
    "    \"\"\"\n",
    "    embed = get_embed(input_data, vocab_size, embed_dim)\n",
    "    rnn, final_state = build_rnn(cell, embed)\n",
    "    logits = tf.contrib.layers.fully_connected(rnn, vocab_size, activation_fn=None)\n",
    "    \n",
    "    return logits, final_state\n",
    "\n",
    "\"\"\"\n",
    "DON'T MODIFY ANYTHING IN THIS CELL THAT IS BELOW THIS LINE\n",
    "\"\"\"\n",
    "tests.test_build_nn(build_nn)"
   ]
  },
  {
   "cell_type": "markdown",
   "metadata": {
    "deletable": true,
    "editable": true
   },
   "source": [
    "### Batches\n",
    "Implement `get_batches` to create batches of input and targets using `int_text`.  The batches should be a Numpy array with the shape `(number of batches, 2, batch size, sequence length)`. Each batch contains two elements:\n",
    "- The first element is a single batch of **input** with the shape `[batch size, sequence length]`\n",
    "- The second element is a single batch of **targets** with the shape `[batch size, sequence length]`\n",
    "\n",
    "If you can't fill the last batch with enough data, drop the last batch.\n",
    "\n",
    "For example, `get_batches([1, 2, 3, 4, 5, 6, 7, 8, 9, 10, 11, 12, 13, 14, 15, 16, 17, 18, 19, 20], 3, 2)` would return a Numpy array of the following:\n",
    "```\n",
    "[\n",
    "  # First Batch\n",
    "  [\n",
    "    # Batch of Input\n",
    "    [[ 1  2], [ 7  8], [13 14]]\n",
    "    # Batch of targets\n",
    "    [[ 2  3], [ 8  9], [14 15]]\n",
    "  ]\n",
    "\n",
    "  # Second Batch\n",
    "  [\n",
    "    # Batch of Input\n",
    "    [[ 3  4], [ 9 10], [15 16]]\n",
    "    # Batch of targets\n",
    "    [[ 4  5], [10 11], [16 17]]\n",
    "  ]\n",
    "\n",
    "  # Third Batch\n",
    "  [\n",
    "    # Batch of Input\n",
    "    [[ 5  6], [11 12], [17 18]]\n",
    "    # Batch of targets\n",
    "    [[ 6  7], [12 13], [18  1]]\n",
    "  ]\n",
    "]\n",
    "```\n",
    "\n",
    "Notice that the last target value in the last batch is the first input value of the first batch. In this case, `1`. This is a common technique used when creating sequence batches, although it is rather unintuitive."
   ]
  },
  {
   "cell_type": "code",
   "execution_count": 73,
   "metadata": {
    "collapsed": false,
    "deletable": true,
    "editable": true
   },
   "outputs": [
    {
     "name": "stdout",
     "output_type": "stream",
     "text": [
      "Tests Passed\n"
     ]
    }
   ],
   "source": [
    "def get_batches(int_text, batch_size, seq_length):\n",
    "    \"\"\"\n",
    "    Return batches of input and target\n",
    "    :param int_text: Text with the words replaced by their ids\n",
    "    :param batch_size: The size of batch\n",
    "    :param seq_length: The length of sequence\n",
    "    :return: Batches as a Numpy array\n",
    "    \"\"\"\n",
    "    batch_length = batch_size * seq_length\n",
    "    n_batches = len(int_text) // batch_length\n",
    "    \n",
    "    x = np.array(int_text[:n_batches * batch_length])\n",
    "    y = np.array(int_text[1:n_batches * batch_length+1])\n",
    "    y[-1] = x[0]\n",
    "    x = np.split(x.reshape(batch_size, -1), n_batches, -1)\n",
    "    y = np.split(y.reshape(batch_size, -1), n_batches, -1)\n",
    "    \n",
    "    return np.array(list(zip(x,y)))\n",
    "\n",
    "\"\"\"\n",
    "DON'T MODIFY ANYTHING IN THIS CELL THAT IS BELOW THIS LINE\n",
    "\"\"\"\n",
    "tests.test_get_batches(get_batches)"
   ]
  },
  {
   "cell_type": "markdown",
   "metadata": {
    "deletable": true,
    "editable": true
   },
   "source": [
    "## Neural Network Training\n",
    "### Hyperparameters\n",
    "Tune the following parameters:\n",
    "\n",
    "- Set `num_epochs` to the number of epochs.\n",
    "- Set `batch_size` to the batch size.\n",
    "- Set `rnn_size` to the size of the RNNs.\n",
    "- Set `embed_dim` to the size of the embedding.\n",
    "- Set `seq_length` to the length of sequence.\n",
    "- Set `learning_rate` to the learning rate.\n",
    "- Set `show_every_n_batches` to the number of batches the neural network should print progress."
   ]
  },
  {
   "cell_type": "code",
   "execution_count": 82,
   "metadata": {
    "collapsed": true,
    "deletable": true,
    "editable": true
   },
   "outputs": [],
   "source": [
    "# Number of Epochs\n",
    "num_epochs = 100\n",
    "# Batch Size\n",
    "batch_size = 64\n",
    "# RNN Size\n",
    "rnn_size = 256\n",
    "# Embedding Dimension Size\n",
    "embed_dim = 256\n",
    "# Sequence Length\n",
    "seq_length = 8\n",
    "# Learning Rate\n",
    "learning_rate = 0.001\n",
    "# Show stats for every n number of batches\n",
    "show_every_n_batches = 50\n",
    "\n",
    "\"\"\"\n",
    "DON'T MODIFY ANYTHING IN THIS CELL THAT IS BELOW THIS LINE\n",
    "\"\"\"\n",
    "save_dir = './save'"
   ]
  },
  {
   "cell_type": "markdown",
   "metadata": {
    "deletable": true,
    "editable": true
   },
   "source": [
    "### Build the Graph\n",
    "Build the graph using the neural network you implemented."
   ]
  },
  {
   "cell_type": "code",
   "execution_count": 83,
   "metadata": {
    "collapsed": false,
    "deletable": true,
    "editable": true
   },
   "outputs": [],
   "source": [
    "\"\"\"\n",
    "DON'T MODIFY ANYTHING IN THIS CELL\n",
    "\"\"\"\n",
    "from tensorflow.contrib import seq2seq\n",
    "\n",
    "train_graph = tf.Graph()\n",
    "with train_graph.as_default():\n",
    "    vocab_size = len(int_to_vocab)\n",
    "    input_text, targets, lr = get_inputs()\n",
    "    input_data_shape = tf.shape(input_text)\n",
    "    cell, initial_state = get_init_cell(input_data_shape[0], rnn_size)\n",
    "    logits, final_state = build_nn(cell, rnn_size, input_text, vocab_size, embed_dim)\n",
    "\n",
    "    # Probabilities for generating words\n",
    "    probs = tf.nn.softmax(logits, name='probs')\n",
    "\n",
    "    # Loss function\n",
    "    cost = seq2seq.sequence_loss(\n",
    "        logits,\n",
    "        targets,\n",
    "        tf.ones([input_data_shape[0], input_data_shape[1]]))\n",
    "\n",
    "    # Optimizer\n",
    "    optimizer = tf.train.AdamOptimizer(lr)\n",
    "\n",
    "    # Gradient Clipping\n",
    "    gradients = optimizer.compute_gradients(cost)\n",
    "    capped_gradients = [(tf.clip_by_value(grad, -1., 1.), var) for grad, var in gradients if grad is not None]\n",
    "    train_op = optimizer.apply_gradients(capped_gradients)"
   ]
  },
  {
   "cell_type": "markdown",
   "metadata": {
    "deletable": true,
    "editable": true
   },
   "source": [
    "## Train\n",
    "Train the neural network on the preprocessed data.  If you have a hard time getting a good loss, check the [forums](https://discussions.udacity.com/) to see if anyone is having the same problem."
   ]
  },
  {
   "cell_type": "code",
   "execution_count": 84,
   "metadata": {
    "collapsed": false,
    "deletable": true,
    "editable": true
   },
   "outputs": [
    {
     "name": "stdout",
     "output_type": "stream",
     "text": [
      "Epoch   0 Batch    0/134   train_loss = 8.822\n",
      "Epoch   0 Batch   50/134   train_loss = 6.581\n",
      "Epoch   0 Batch  100/134   train_loss = 6.400\n",
      "Epoch   1 Batch   16/134   train_loss = 5.899\n",
      "Epoch   1 Batch   66/134   train_loss = 5.983\n",
      "Epoch   1 Batch  116/134   train_loss = 6.179\n",
      "Epoch   2 Batch   32/134   train_loss = 5.940\n",
      "Epoch   2 Batch   82/134   train_loss = 5.662\n",
      "Epoch   2 Batch  132/134   train_loss = 5.702\n",
      "Epoch   3 Batch   48/134   train_loss = 5.553\n",
      "Epoch   3 Batch   98/134   train_loss = 5.313\n",
      "Epoch   4 Batch   14/134   train_loss = 5.377\n",
      "Epoch   4 Batch   64/134   train_loss = 5.282\n",
      "Epoch   4 Batch  114/134   train_loss = 5.065\n",
      "Epoch   5 Batch   30/134   train_loss = 5.150\n",
      "Epoch   5 Batch   80/134   train_loss = 5.160\n",
      "Epoch   5 Batch  130/134   train_loss = 4.581\n",
      "Epoch   6 Batch   46/134   train_loss = 4.957\n",
      "Epoch   6 Batch   96/134   train_loss = 4.766\n",
      "Epoch   7 Batch   12/134   train_loss = 4.712\n",
      "Epoch   7 Batch   62/134   train_loss = 4.717\n",
      "Epoch   7 Batch  112/134   train_loss = 4.954\n",
      "Epoch   8 Batch   28/134   train_loss = 4.721\n",
      "Epoch   8 Batch   78/134   train_loss = 4.541\n",
      "Epoch   8 Batch  128/134   train_loss = 4.270\n",
      "Epoch   9 Batch   44/134   train_loss = 4.354\n",
      "Epoch   9 Batch   94/134   train_loss = 4.389\n",
      "Epoch  10 Batch   10/134   train_loss = 4.462\n",
      "Epoch  10 Batch   60/134   train_loss = 4.207\n",
      "Epoch  10 Batch  110/134   train_loss = 4.362\n",
      "Epoch  11 Batch   26/134   train_loss = 4.356\n",
      "Epoch  11 Batch   76/134   train_loss = 4.386\n",
      "Epoch  11 Batch  126/134   train_loss = 4.049\n",
      "Epoch  12 Batch   42/134   train_loss = 4.105\n",
      "Epoch  12 Batch   92/134   train_loss = 4.113\n",
      "Epoch  13 Batch    8/134   train_loss = 3.911\n",
      "Epoch  13 Batch   58/134   train_loss = 4.088\n",
      "Epoch  13 Batch  108/134   train_loss = 4.102\n",
      "Epoch  14 Batch   24/134   train_loss = 3.936\n",
      "Epoch  14 Batch   74/134   train_loss = 4.116\n",
      "Epoch  14 Batch  124/134   train_loss = 3.952\n",
      "Epoch  15 Batch   40/134   train_loss = 3.713\n",
      "Epoch  15 Batch   90/134   train_loss = 3.708\n",
      "Epoch  16 Batch    6/134   train_loss = 3.711\n",
      "Epoch  16 Batch   56/134   train_loss = 3.594\n",
      "Epoch  16 Batch  106/134   train_loss = 3.686\n",
      "Epoch  17 Batch   22/134   train_loss = 3.607\n",
      "Epoch  17 Batch   72/134   train_loss = 3.510\n",
      "Epoch  17 Batch  122/134   train_loss = 3.506\n",
      "Epoch  18 Batch   38/134   train_loss = 3.352\n",
      "Epoch  18 Batch   88/134   train_loss = 3.353\n",
      "Epoch  19 Batch    4/134   train_loss = 3.275\n",
      "Epoch  19 Batch   54/134   train_loss = 3.304\n",
      "Epoch  19 Batch  104/134   train_loss = 3.390\n",
      "Epoch  20 Batch   20/134   train_loss = 3.156\n",
      "Epoch  20 Batch   70/134   train_loss = 3.185\n",
      "Epoch  20 Batch  120/134   train_loss = 3.047\n",
      "Epoch  21 Batch   36/134   train_loss = 3.224\n",
      "Epoch  21 Batch   86/134   train_loss = 3.069\n",
      "Epoch  22 Batch    2/134   train_loss = 2.880\n",
      "Epoch  22 Batch   52/134   train_loss = 2.945\n",
      "Epoch  22 Batch  102/134   train_loss = 3.152\n",
      "Epoch  23 Batch   18/134   train_loss = 2.802\n",
      "Epoch  23 Batch   68/134   train_loss = 2.984\n",
      "Epoch  23 Batch  118/134   train_loss = 2.920\n",
      "Epoch  24 Batch   34/134   train_loss = 2.837\n",
      "Epoch  24 Batch   84/134   train_loss = 2.611\n",
      "Epoch  25 Batch    0/134   train_loss = 2.719\n",
      "Epoch  25 Batch   50/134   train_loss = 2.770\n",
      "Epoch  25 Batch  100/134   train_loss = 2.573\n",
      "Epoch  26 Batch   16/134   train_loss = 2.495\n",
      "Epoch  26 Batch   66/134   train_loss = 2.505\n",
      "Epoch  26 Batch  116/134   train_loss = 2.577\n",
      "Epoch  27 Batch   32/134   train_loss = 2.379\n",
      "Epoch  27 Batch   82/134   train_loss = 2.322\n",
      "Epoch  27 Batch  132/134   train_loss = 2.391\n",
      "Epoch  28 Batch   48/134   train_loss = 2.480\n",
      "Epoch  28 Batch   98/134   train_loss = 2.297\n",
      "Epoch  29 Batch   14/134   train_loss = 2.382\n",
      "Epoch  29 Batch   64/134   train_loss = 2.290\n",
      "Epoch  29 Batch  114/134   train_loss = 2.181\n",
      "Epoch  30 Batch   30/134   train_loss = 2.055\n",
      "Epoch  30 Batch   80/134   train_loss = 2.190\n",
      "Epoch  30 Batch  130/134   train_loss = 2.157\n",
      "Epoch  31 Batch   46/134   train_loss = 2.208\n",
      "Epoch  31 Batch   96/134   train_loss = 2.013\n",
      "Epoch  32 Batch   12/134   train_loss = 2.069\n",
      "Epoch  32 Batch   62/134   train_loss = 2.058\n",
      "Epoch  32 Batch  112/134   train_loss = 2.009\n",
      "Epoch  33 Batch   28/134   train_loss = 1.927\n",
      "Epoch  33 Batch   78/134   train_loss = 1.969\n",
      "Epoch  33 Batch  128/134   train_loss = 1.758\n",
      "Epoch  34 Batch   44/134   train_loss = 1.823\n",
      "Epoch  34 Batch   94/134   train_loss = 1.772\n",
      "Epoch  35 Batch   10/134   train_loss = 1.713\n",
      "Epoch  35 Batch   60/134   train_loss = 1.649\n",
      "Epoch  35 Batch  110/134   train_loss = 1.718\n",
      "Epoch  36 Batch   26/134   train_loss = 1.655\n",
      "Epoch  36 Batch   76/134   train_loss = 1.580\n",
      "Epoch  36 Batch  126/134   train_loss = 1.713\n",
      "Epoch  37 Batch   42/134   train_loss = 1.608\n",
      "Epoch  37 Batch   92/134   train_loss = 1.274\n",
      "Epoch  38 Batch    8/134   train_loss = 1.429\n",
      "Epoch  38 Batch   58/134   train_loss = 1.591\n",
      "Epoch  38 Batch  108/134   train_loss = 1.493\n",
      "Epoch  39 Batch   24/134   train_loss = 1.637\n",
      "Epoch  39 Batch   74/134   train_loss = 1.428\n",
      "Epoch  39 Batch  124/134   train_loss = 1.472\n",
      "Epoch  40 Batch   40/134   train_loss = 1.518\n",
      "Epoch  40 Batch   90/134   train_loss = 1.287\n",
      "Epoch  41 Batch    6/134   train_loss = 1.447\n",
      "Epoch  41 Batch   56/134   train_loss = 1.261\n",
      "Epoch  41 Batch  106/134   train_loss = 1.148\n",
      "Epoch  42 Batch   22/134   train_loss = 1.268\n",
      "Epoch  42 Batch   72/134   train_loss = 1.173\n",
      "Epoch  42 Batch  122/134   train_loss = 1.220\n",
      "Epoch  43 Batch   38/134   train_loss = 1.184\n",
      "Epoch  43 Batch   88/134   train_loss = 1.071\n",
      "Epoch  44 Batch    4/134   train_loss = 1.228\n",
      "Epoch  44 Batch   54/134   train_loss = 1.057\n",
      "Epoch  44 Batch  104/134   train_loss = 1.155\n",
      "Epoch  45 Batch   20/134   train_loss = 1.136\n",
      "Epoch  45 Batch   70/134   train_loss = 1.113\n",
      "Epoch  45 Batch  120/134   train_loss = 1.025\n",
      "Epoch  46 Batch   36/134   train_loss = 1.133\n",
      "Epoch  46 Batch   86/134   train_loss = 1.054\n",
      "Epoch  47 Batch    2/134   train_loss = 1.003\n",
      "Epoch  47 Batch   52/134   train_loss = 1.152\n",
      "Epoch  47 Batch  102/134   train_loss = 1.155\n",
      "Epoch  48 Batch   18/134   train_loss = 0.964\n",
      "Epoch  48 Batch   68/134   train_loss = 1.001\n",
      "Epoch  48 Batch  118/134   train_loss = 1.056\n",
      "Epoch  49 Batch   34/134   train_loss = 1.032\n",
      "Epoch  49 Batch   84/134   train_loss = 0.836\n",
      "Epoch  50 Batch    0/134   train_loss = 0.961\n",
      "Epoch  50 Batch   50/134   train_loss = 0.910\n",
      "Epoch  50 Batch  100/134   train_loss = 0.872\n",
      "Epoch  51 Batch   16/134   train_loss = 0.917\n",
      "Epoch  51 Batch   66/134   train_loss = 0.800\n",
      "Epoch  51 Batch  116/134   train_loss = 0.862\n",
      "Epoch  52 Batch   32/134   train_loss = 0.822\n",
      "Epoch  52 Batch   82/134   train_loss = 0.830\n",
      "Epoch  52 Batch  132/134   train_loss = 0.748\n",
      "Epoch  53 Batch   48/134   train_loss = 0.837\n",
      "Epoch  53 Batch   98/134   train_loss = 0.850\n",
      "Epoch  54 Batch   14/134   train_loss = 0.839\n",
      "Epoch  54 Batch   64/134   train_loss = 0.816\n",
      "Epoch  54 Batch  114/134   train_loss = 0.794\n",
      "Epoch  55 Batch   30/134   train_loss = 0.694\n",
      "Epoch  55 Batch   80/134   train_loss = 0.743\n",
      "Epoch  55 Batch  130/134   train_loss = 0.779\n",
      "Epoch  56 Batch   46/134   train_loss = 0.812\n",
      "Epoch  56 Batch   96/134   train_loss = 0.718\n",
      "Epoch  57 Batch   12/134   train_loss = 0.747\n",
      "Epoch  57 Batch   62/134   train_loss = 0.826\n",
      "Epoch  57 Batch  112/134   train_loss = 0.778\n",
      "Epoch  58 Batch   28/134   train_loss = 0.712\n",
      "Epoch  58 Batch   78/134   train_loss = 0.771\n",
      "Epoch  58 Batch  128/134   train_loss = 0.714\n",
      "Epoch  59 Batch   44/134   train_loss = 0.711\n",
      "Epoch  59 Batch   94/134   train_loss = 0.642\n",
      "Epoch  60 Batch   10/134   train_loss = 0.653\n",
      "Epoch  60 Batch   60/134   train_loss = 0.665\n",
      "Epoch  60 Batch  110/134   train_loss = 0.656\n",
      "Epoch  61 Batch   26/134   train_loss = 0.658\n",
      "Epoch  61 Batch   76/134   train_loss = 0.606\n",
      "Epoch  61 Batch  126/134   train_loss = 0.691\n",
      "Epoch  62 Batch   42/134   train_loss = 0.673\n",
      "Epoch  62 Batch   92/134   train_loss = 0.512\n",
      "Epoch  63 Batch    8/134   train_loss = 0.617\n",
      "Epoch  63 Batch   58/134   train_loss = 0.595\n",
      "Epoch  63 Batch  108/134   train_loss = 0.659\n",
      "Epoch  64 Batch   24/134   train_loss = 0.725\n",
      "Epoch  64 Batch   74/134   train_loss = 0.616\n",
      "Epoch  64 Batch  124/134   train_loss = 0.616\n",
      "Epoch  65 Batch   40/134   train_loss = 0.700\n",
      "Epoch  65 Batch   90/134   train_loss = 0.581\n",
      "Epoch  66 Batch    6/134   train_loss = 0.591\n",
      "Epoch  66 Batch   56/134   train_loss = 0.529\n",
      "Epoch  66 Batch  106/134   train_loss = 0.503\n",
      "Epoch  67 Batch   22/134   train_loss = 0.555\n",
      "Epoch  67 Batch   72/134   train_loss = 0.580\n",
      "Epoch  67 Batch  122/134   train_loss = 0.584\n",
      "Epoch  68 Batch   38/134   train_loss = 0.562\n",
      "Epoch  68 Batch   88/134   train_loss = 0.494\n",
      "Epoch  69 Batch    4/134   train_loss = 0.598\n",
      "Epoch  69 Batch   54/134   train_loss = 0.544\n",
      "Epoch  69 Batch  104/134   train_loss = 0.572\n",
      "Epoch  70 Batch   20/134   train_loss = 0.546\n",
      "Epoch  70 Batch   70/134   train_loss = 0.638\n",
      "Epoch  70 Batch  120/134   train_loss = 0.537\n",
      "Epoch  71 Batch   36/134   train_loss = 0.559\n",
      "Epoch  71 Batch   86/134   train_loss = 0.559\n",
      "Epoch  72 Batch    2/134   train_loss = 0.513\n",
      "Epoch  72 Batch   52/134   train_loss = 0.629\n",
      "Epoch  72 Batch  102/134   train_loss = 0.629\n",
      "Epoch  73 Batch   18/134   train_loss = 0.517\n",
      "Epoch  73 Batch   68/134   train_loss = 0.574\n",
      "Epoch  73 Batch  118/134   train_loss = 0.614\n",
      "Epoch  74 Batch   34/134   train_loss = 0.642\n",
      "Epoch  74 Batch   84/134   train_loss = 0.502\n",
      "Epoch  75 Batch    0/134   train_loss = 0.562\n",
      "Epoch  75 Batch   50/134   train_loss = 0.561\n",
      "Epoch  75 Batch  100/134   train_loss = 0.475\n",
      "Epoch  76 Batch   16/134   train_loss = 0.538\n",
      "Epoch  76 Batch   66/134   train_loss = 0.478\n",
      "Epoch  76 Batch  116/134   train_loss = 0.546\n",
      "Epoch  77 Batch   32/134   train_loss = 0.535\n",
      "Epoch  77 Batch   82/134   train_loss = 0.554\n",
      "Epoch  77 Batch  132/134   train_loss = 0.477\n",
      "Epoch  78 Batch   48/134   train_loss = 0.536\n",
      "Epoch  78 Batch   98/134   train_loss = 0.573\n",
      "Epoch  79 Batch   14/134   train_loss = 0.591\n",
      "Epoch  79 Batch   64/134   train_loss = 0.561\n",
      "Epoch  79 Batch  114/134   train_loss = 0.559\n",
      "Epoch  80 Batch   30/134   train_loss = 0.482\n",
      "Epoch  80 Batch   80/134   train_loss = 0.539\n",
      "Epoch  80 Batch  130/134   train_loss = 0.549\n",
      "Epoch  81 Batch   46/134   train_loss = 0.586\n",
      "Epoch  81 Batch   96/134   train_loss = 0.492\n",
      "Epoch  82 Batch   12/134   train_loss = 0.530\n",
      "Epoch  82 Batch   62/134   train_loss = 0.621\n",
      "Epoch  82 Batch  112/134   train_loss = 0.564\n",
      "Epoch  83 Batch   28/134   train_loss = 0.529\n",
      "Epoch  83 Batch   78/134   train_loss = 0.560\n",
      "Epoch  83 Batch  128/134   train_loss = 0.489\n",
      "Epoch  84 Batch   44/134   train_loss = 0.532\n",
      "Epoch  84 Batch   94/134   train_loss = 0.495\n",
      "Epoch  85 Batch   10/134   train_loss = 0.481\n",
      "Epoch  85 Batch   60/134   train_loss = 0.486\n",
      "Epoch  85 Batch  110/134   train_loss = 0.522\n",
      "Epoch  86 Batch   26/134   train_loss = 0.486\n",
      "Epoch  86 Batch   76/134   train_loss = 0.486\n",
      "Epoch  86 Batch  126/134   train_loss = 0.545\n",
      "Epoch  87 Batch   42/134   train_loss = 0.540\n",
      "Epoch  87 Batch   92/134   train_loss = 0.446\n",
      "Epoch  88 Batch    8/134   train_loss = 0.545\n",
      "Epoch  88 Batch   58/134   train_loss = 0.475\n",
      "Epoch  88 Batch  108/134   train_loss = 0.524\n",
      "Epoch  89 Batch   24/134   train_loss = 0.582\n",
      "Epoch  89 Batch   74/134   train_loss = 0.535\n",
      "Epoch  89 Batch  124/134   train_loss = 0.540\n",
      "Epoch  90 Batch   40/134   train_loss = 0.611\n",
      "Epoch  90 Batch   90/134   train_loss = 0.499\n",
      "Epoch  91 Batch    6/134   train_loss = 0.507\n",
      "Epoch  91 Batch   56/134   train_loss = 0.460\n",
      "Epoch  91 Batch  106/134   train_loss = 0.432\n",
      "Epoch  92 Batch   22/134   train_loss = 0.486\n",
      "Epoch  92 Batch   72/134   train_loss = 0.496\n",
      "Epoch  92 Batch  122/134   train_loss = 0.532\n",
      "Epoch  93 Batch   38/134   train_loss = 0.484\n",
      "Epoch  93 Batch   88/134   train_loss = 0.446\n",
      "Epoch  94 Batch    4/134   train_loss = 0.553\n",
      "Epoch  94 Batch   54/134   train_loss = 0.481\n",
      "Epoch  94 Batch  104/134   train_loss = 0.517\n",
      "Epoch  95 Batch   20/134   train_loss = 0.499\n",
      "Epoch  95 Batch   70/134   train_loss = 0.568\n",
      "Epoch  95 Batch  120/134   train_loss = 0.501\n",
      "Epoch  96 Batch   36/134   train_loss = 0.523\n",
      "Epoch  96 Batch   86/134   train_loss = 0.531\n",
      "Epoch  97 Batch    2/134   train_loss = 0.442\n",
      "Epoch  97 Batch   52/134   train_loss = 0.571\n",
      "Epoch  97 Batch  102/134   train_loss = 0.577\n",
      "Epoch  98 Batch   18/134   train_loss = 0.492\n",
      "Epoch  98 Batch   68/134   train_loss = 0.544\n",
      "Epoch  98 Batch  118/134   train_loss = 0.560\n",
      "Epoch  99 Batch   34/134   train_loss = 0.581\n",
      "Epoch  99 Batch   84/134   train_loss = 0.467\n",
      "Model Trained and Saved\n"
     ]
    }
   ],
   "source": [
    "\"\"\"\n",
    "DON'T MODIFY ANYTHING IN THIS CELL\n",
    "\"\"\"\n",
    "batches = get_batches(int_text, batch_size, seq_length)\n",
    "\n",
    "with tf.Session(graph=train_graph) as sess:\n",
    "    sess.run(tf.global_variables_initializer())\n",
    "\n",
    "    for epoch_i in range(num_epochs):\n",
    "        state = sess.run(initial_state, {input_text: batches[0][0]})\n",
    "\n",
    "        for batch_i, (x, y) in enumerate(batches):\n",
    "            feed = {\n",
    "                input_text: x,\n",
    "                targets: y,\n",
    "                initial_state: state,\n",
    "                lr: learning_rate}\n",
    "            train_loss, state, _ = sess.run([cost, final_state, train_op], feed)\n",
    "\n",
    "            # Show every <show_every_n_batches> batches\n",
    "            if (epoch_i * len(batches) + batch_i) % show_every_n_batches == 0:\n",
    "                print('Epoch {:>3} Batch {:>4}/{}   train_loss = {:.3f}'.format(\n",
    "                    epoch_i,\n",
    "                    batch_i,\n",
    "                    len(batches),\n",
    "                    train_loss))\n",
    "\n",
    "    # Save Model\n",
    "    saver = tf.train.Saver()\n",
    "    saver.save(sess, save_dir)\n",
    "    print('Model Trained and Saved')"
   ]
  },
  {
   "cell_type": "markdown",
   "metadata": {
    "deletable": true,
    "editable": true
   },
   "source": [
    "## Save Parameters\n",
    "Save `seq_length` and `save_dir` for generating a new TV script."
   ]
  },
  {
   "cell_type": "code",
   "execution_count": 85,
   "metadata": {
    "collapsed": false,
    "deletable": true,
    "editable": true
   },
   "outputs": [],
   "source": [
    "\"\"\"\n",
    "DON'T MODIFY ANYTHING IN THIS CELL\n",
    "\"\"\"\n",
    "# Save parameters for checkpoint\n",
    "helper.save_params((seq_length, save_dir))"
   ]
  },
  {
   "cell_type": "markdown",
   "metadata": {
    "deletable": true,
    "editable": true
   },
   "source": [
    "# Checkpoint"
   ]
  },
  {
   "cell_type": "code",
   "execution_count": 86,
   "metadata": {
    "collapsed": false,
    "deletable": true,
    "editable": true
   },
   "outputs": [],
   "source": [
    "\"\"\"\n",
    "DON'T MODIFY ANYTHING IN THIS CELL\n",
    "\"\"\"\n",
    "import tensorflow as tf\n",
    "import numpy as np\n",
    "import helper\n",
    "import problem_unittests as tests\n",
    "\n",
    "_, vocab_to_int, int_to_vocab, token_dict = helper.load_preprocess()\n",
    "seq_length, load_dir = helper.load_params()"
   ]
  },
  {
   "cell_type": "markdown",
   "metadata": {
    "deletable": true,
    "editable": true
   },
   "source": [
    "## Implement Generate Functions\n",
    "### Get Tensors\n",
    "Get tensors from `loaded_graph` using the function [`get_tensor_by_name()`](https://www.tensorflow.org/api_docs/python/tf/Graph#get_tensor_by_name).  Get the tensors using the following names:\n",
    "- \"input:0\"\n",
    "- \"initial_state:0\"\n",
    "- \"final_state:0\"\n",
    "- \"probs:0\"\n",
    "\n",
    "Return the tensors in the following tuple `(InputTensor, InitialStateTensor, FinalStateTensor, ProbsTensor)` "
   ]
  },
  {
   "cell_type": "code",
   "execution_count": 87,
   "metadata": {
    "collapsed": false,
    "deletable": true,
    "editable": true
   },
   "outputs": [
    {
     "name": "stdout",
     "output_type": "stream",
     "text": [
      "Tests Passed\n"
     ]
    }
   ],
   "source": [
    "def get_tensors(loaded_graph):\n",
    "    \"\"\"\n",
    "    Get input, initial state, final state, and probabilities tensor from <loaded_graph>\n",
    "    :param loaded_graph: TensorFlow graph loaded from file\n",
    "    :return: Tuple (InputTensor, InitialStateTensor, FinalStateTensor, ProbsTensor)\n",
    "    \"\"\"\n",
    "    InputTensor = loaded_graph.get_tensor_by_name(\"input:0\")\n",
    "    InitialStateTensor = loaded_graph.get_tensor_by_name(\"initial_state:0\")\n",
    "    FinalStateTensor = loaded_graph.get_tensor_by_name(\"final_state:0\")\n",
    "    ProbsTensor = loaded_graph.get_tensor_by_name(\"probs:0\")\n",
    "    return InputTensor, InitialStateTensor, FinalStateTensor, ProbsTensor\n",
    "\n",
    "\"\"\"\n",
    "DON'T MODIFY ANYTHING IN THIS CELL THAT IS BELOW THIS LINE\n",
    "\"\"\"\n",
    "tests.test_get_tensors(get_tensors)"
   ]
  },
  {
   "cell_type": "markdown",
   "metadata": {
    "deletable": true,
    "editable": true
   },
   "source": [
    "### Choose Word\n",
    "Implement the `pick_word()` function to select the next word using `probabilities`."
   ]
  },
  {
   "cell_type": "code",
   "execution_count": 88,
   "metadata": {
    "collapsed": false,
    "deletable": true,
    "editable": true
   },
   "outputs": [
    {
     "name": "stdout",
     "output_type": "stream",
     "text": [
      "Tests Passed\n"
     ]
    }
   ],
   "source": [
    "def pick_word(probabilities, int_to_vocab):\n",
    "    \"\"\"\n",
    "    Pick the next word in the generated text\n",
    "    :param probabilities: Probabilites of the next word\n",
    "    :param int_to_vocab: Dictionary of word ids as the keys and words as the values\n",
    "    :return: String of the predicted word\n",
    "    \"\"\"\n",
    "    return int_to_vocab[np.argmax(probabilities)]\n",
    "\n",
    "\n",
    "\"\"\"\n",
    "DON'T MODIFY ANYTHING IN THIS CELL THAT IS BELOW THIS LINE\n",
    "\"\"\"\n",
    "tests.test_pick_word(pick_word)"
   ]
  },
  {
   "cell_type": "markdown",
   "metadata": {
    "deletable": true,
    "editable": true
   },
   "source": [
    "## Generate TV Script\n",
    "This will generate the TV script for you.  Set `gen_length` to the length of TV script you want to generate."
   ]
  },
  {
   "cell_type": "code",
   "execution_count": 89,
   "metadata": {
    "collapsed": false,
    "deletable": true,
    "editable": true
   },
   "outputs": [
    {
     "name": "stdout",
     "output_type": "stream",
     "text": [
      "INFO:tensorflow:Restoring parameters from ./save\n",
      "moe_szyslak:(lying) oh, it is. a guy some flowers who treats loaded.\n",
      "said no, gimme it!\n",
      "moe_szyslak: get on the back, uh. if you gotta watch to meet you...\n",
      "moe_szyslak:(sighs) check the one you should-- what happened more at your school.\n",
      "barney_gumble:(writing)\n",
      "homer_simpson: all, i figured out of springfield of us.\n",
      "bart_simpson: what happened.\n",
      "moe_szyslak: what? if you can give you everything ever back.\n",
      "homer_simpson: revenge? she got just a pig.\n",
      "moe_szyslak: uh, are you gonna stop coming and your kids' age.\n",
      "lenny_leonard: wow, that was before i love a\" flaming moe\".\"\n",
      "moe_szyslak: get on top of?\n",
      "homer_simpson:(noticing band hands mean, or too.\n",
      "barney_gumble: so, i'm sorry, homer.\n",
      "homer_simpson: i know.(looks at moe's) oh, you're right... ooh, lemme just the bad news, 'cause what happened home?\n",
      "barney_gumble: hey, moe...\n"
     ]
    }
   ],
   "source": [
    "gen_length = 200\n",
    "# homer_simpson, moe_szyslak, or Barney_Gumble\n",
    "prime_word = 'moe_szyslak'\n",
    "\n",
    "\"\"\"\n",
    "DON'T MODIFY ANYTHING IN THIS CELL THAT IS BELOW THIS LINE\n",
    "\"\"\"\n",
    "loaded_graph = tf.Graph()\n",
    "with tf.Session(graph=loaded_graph) as sess:\n",
    "    # Load saved model\n",
    "    loader = tf.train.import_meta_graph(load_dir + '.meta')\n",
    "    loader.restore(sess, load_dir)\n",
    "\n",
    "    # Get Tensors from loaded model\n",
    "    input_text, initial_state, final_state, probs = get_tensors(loaded_graph)\n",
    "\n",
    "    # Sentences generation setup\n",
    "    gen_sentences = [prime_word + ':']\n",
    "    prev_state = sess.run(initial_state, {input_text: np.array([[1]])})\n",
    "\n",
    "    # Generate sentences\n",
    "    for n in range(gen_length):\n",
    "        # Dynamic Input\n",
    "        dyn_input = [[vocab_to_int[word] for word in gen_sentences[-seq_length:]]]\n",
    "        dyn_seq_length = len(dyn_input[0])\n",
    "\n",
    "        # Get Prediction\n",
    "        probabilities, prev_state = sess.run(\n",
    "            [probs, final_state],\n",
    "            {input_text: dyn_input, initial_state: prev_state})\n",
    "        \n",
    "        pred_word = pick_word(probabilities[dyn_seq_length-1], int_to_vocab)\n",
    "\n",
    "        gen_sentences.append(pred_word)\n",
    "    \n",
    "    # Remove tokens\n",
    "    tv_script = ' '.join(gen_sentences)\n",
    "    for key, token in token_dict.items():\n",
    "        ending = ' ' if key in ['\\n', '(', '\"'] else ''\n",
    "        tv_script = tv_script.replace(' ' + token.lower(), key)\n",
    "    tv_script = tv_script.replace('\\n ', '\\n')\n",
    "    tv_script = tv_script.replace('( ', '(')\n",
    "        \n",
    "    print(tv_script)"
   ]
  },
  {
   "cell_type": "markdown",
   "metadata": {
    "deletable": true,
    "editable": true
   },
   "source": [
    "# The TV Script is Nonsensical\n",
    "It's ok if the TV script doesn't make any sense.  We trained on less than a megabyte of text.  In order to get good results, you'll have to use a smaller vocabulary or get more data.  Luckily there's more data!  As we mentioned in the beggining of this project, this is a subset of [another dataset](https://www.kaggle.com/wcukierski/the-simpsons-by-the-data).  We didn't have you train on all the data, because that would take too long.  However, you are free to train your neural network on all the data.  After you complete the project, of course.\n",
    "# Submitting This Project\n",
    "When submitting this project, make sure to run all the cells before saving the notebook. Save the notebook file as \"dlnd_tv_script_generation.ipynb\" and save it as a HTML file under \"File\" -> \"Download as\". Include the \"helper.py\" and \"problem_unittests.py\" files in your submission."
   ]
  }
 ],
 "metadata": {
  "kernelspec": {
   "display_name": "Python 3",
   "language": "python",
   "name": "python3"
  },
  "language_info": {
   "codemirror_mode": {
    "name": "ipython",
    "version": 3
   },
   "file_extension": ".py",
   "mimetype": "text/x-python",
   "name": "python",
   "nbconvert_exporter": "python",
   "pygments_lexer": "ipython3",
   "version": "3.5.2"
  },
  "widgets": {
   "state": {},
   "version": "1.1.2"
  }
 },
 "nbformat": 4,
 "nbformat_minor": 2
}
